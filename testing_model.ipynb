{
 "cells": [
  {
   "cell_type": "code",
   "execution_count": null,
   "id": "d6e750bc",
   "metadata": {},
   "outputs": [],
   "source": [
    "from forecast.predictor import run_forecast\n",
    "\n",
    "# Elige la región\n",
    "region = \"pacifico\"  # o \"atlantico\"\n",
    "\n",
    "# Ejecutar el pipeline completo de forecast\n",
    "forecast_df = run_forecast(region)\n",
    "\n",
    "# Guardar o visualizar\n",
    "forecast_df.to_csv(f\"forecast_{region}.csv\", index=False)\n",
    "print(f\"✅ Predicción realizada para la región {region}. Guardado como forecast_{region}.csv\")\n"
   ]
  }
 ],
 "metadata": {
  "language_info": {
   "name": "python"
  }
 },
 "nbformat": 4,
 "nbformat_minor": 5
}
